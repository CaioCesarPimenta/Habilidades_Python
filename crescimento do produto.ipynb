{
 "cells": [
  {
   "cell_type": "code",
   "execution_count": 7,
   "id": "634bb46e",
   "metadata": {},
   "outputs": [
    {
     "name": "stdout",
     "output_type": "stream",
     "text": [
      "o iphone teve um aumento de 0.71% de 2019 para 2020\n",
      "o tv teve um aumento de 0.94% de 2019 para 2020\n",
      "o máquina de café teve um aumento de 0.21% de 2019 para 2020\n",
      "o notebook dell teve um aumento de 0.64% de 2019 para 2020\n",
      "o notebook hp teve um aumento de 2.49% de 2019 para 2020\n",
      "o microsoft surface teve um aumento de 0.52% de 2019 para 2020\n",
      "o webcam teve um aumento de 0.24% de 2019 para 2020\n",
      "o caixa de som teve um aumento de 0.48% de 2019 para 2020\n",
      "o microfone teve um aumento de 0.96% de 2019 para 2020\n",
      "o câmera canon teve um aumento de 0.68% de 2019 para 2020\n"
     ]
    }
   ],
   "source": [
    "vendas_produtos = [('iphone', 558147, 951642), \n",
    "                   ('galaxy', 712350, 244295), \n",
    "                   ('ipad', 573823, 26964),\n",
    "                   ('tv', 405252, 787604), \n",
    "                   ('máquina de café', 718654, 867660),\n",
    "                   ('kindle', 531580, 78830), \n",
    "                   ('geladeira', 973139, 710331), \n",
    "                   ('adega', 892292, 646016), \n",
    "                   ('notebook dell', 422760, 694913), \n",
    "                   ('notebook hp', 154753, 539704), \n",
    "                   ('notebook asus', 887061, 324831),\n",
    "                   ('microsoft surface', 438508, 667179), \n",
    "                   ('webcam', 237467, 295633), \n",
    "                   ('caixa de som', 489705, 725316), \n",
    "                   ('microfone', 328311, 644622), \n",
    "                   ('câmera canon', 591120, 994303)]\n",
    "\n",
    "for loop in vendas_produtos:\n",
    "    produto , vendas2019, vendas2020 = loop\n",
    "\n",
    "    if vendas2020 > vendas2019:\n",
    "        aumento = (vendas2020/vendas2019-1)\n",
    "        print('o {} teve um aumento de {:.2f}% de 2019 para 2020'.format(produto,aumento))"
   ]
  }
 ],
 "metadata": {
  "kernelspec": {
   "display_name": "Python 3 (ipykernel)",
   "language": "python",
   "name": "python3"
  },
  "language_info": {
   "codemirror_mode": {
    "name": "ipython",
    "version": 3
   },
   "file_extension": ".py",
   "mimetype": "text/x-python",
   "name": "python",
   "nbconvert_exporter": "python",
   "pygments_lexer": "ipython3",
   "version": "3.9.12"
  }
 },
 "nbformat": 4,
 "nbformat_minor": 5
}
