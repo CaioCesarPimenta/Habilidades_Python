{
 "cells": [
  {
   "cell_type": "code",
   "execution_count": 1,
   "id": "598fac38",
   "metadata": {},
   "outputs": [],
   "source": [
    "\n",
    "def produto(bebida):\n",
    "    bebida = bebida.upper()\n",
    "    if 'BEB' in bebida:\n",
    "        return True\n",
    "    "
   ]
  },
  {
   "cell_type": "code",
   "execution_count": 2,
   "id": "815de5fb",
   "metadata": {},
   "outputs": [],
   "source": [
    "produtos = ['CAR46275','TFA23962','TFA64715','TFA69555','TFA56743','BSA45510','TFA44968',\n",
    "            'CAR75448','CAR23596','CAR13490','BEB21365','BEB31623','BSA62419','BEB73344',\n",
    "            'TFA20079','BEB80694','BSA11769','BEB19495','TFA14792','TFA78043','BSA33484',\n",
    "            'BEB97471','BEB62362','TFA27311','TFA17715','BEB85146','BEB48898','BEB79496',\n",
    "            'CAR38417','TFA19947','TFA58799','CAR94811','BSA59251','BEB15385','BEB24213',\n",
    "            'BEB56262','BSA96915','CAR53454','BEB75073']\n",
    "\n"
   ]
  },
  {
   "cell_type": "code",
   "execution_count": 3,
   "id": "262f0de3",
   "metadata": {},
   "outputs": [
    {
     "name": "stdout",
     "output_type": "stream",
     "text": [
      "mandar CAR46275 para setor de bebida normal\n",
      "mandar TFA23962 para setor de bebida normal\n",
      "mandar TFA64715 para setor de bebida normal\n",
      "mandar TFA69555 para setor de bebida normal\n",
      "mandar TFA56743 para setor de bebida normal\n",
      "mandar BSA45510 para setor de bebida normal\n",
      "mandar TFA44968 para setor de bebida normal\n",
      "mandar CAR75448 para setor de bebida normal\n",
      "mandar CAR23596 para setor de bebida normal\n",
      "mandar CAR13490 para setor de bebida normal\n",
      "enviar BEB21365 para setor de bebidas alcoolicas\n",
      "enviar BEB31623 para setor de bebidas alcoolicas\n",
      "mandar BSA62419 para setor de bebida normal\n",
      "enviar BEB73344 para setor de bebidas alcoolicas\n",
      "mandar TFA20079 para setor de bebida normal\n",
      "enviar BEB80694 para setor de bebidas alcoolicas\n",
      "mandar BSA11769 para setor de bebida normal\n",
      "enviar BEB19495 para setor de bebidas alcoolicas\n",
      "mandar TFA14792 para setor de bebida normal\n",
      "mandar TFA78043 para setor de bebida normal\n",
      "mandar BSA33484 para setor de bebida normal\n",
      "enviar BEB97471 para setor de bebidas alcoolicas\n",
      "enviar BEB62362 para setor de bebidas alcoolicas\n",
      "mandar TFA27311 para setor de bebida normal\n",
      "mandar TFA17715 para setor de bebida normal\n",
      "enviar BEB85146 para setor de bebidas alcoolicas\n",
      "enviar BEB48898 para setor de bebidas alcoolicas\n",
      "enviar BEB79496 para setor de bebidas alcoolicas\n",
      "mandar CAR38417 para setor de bebida normal\n",
      "mandar TFA19947 para setor de bebida normal\n",
      "mandar TFA58799 para setor de bebida normal\n",
      "mandar CAR94811 para setor de bebida normal\n",
      "mandar BSA59251 para setor de bebida normal\n",
      "enviar BEB15385 para setor de bebidas alcoolicas\n",
      "enviar BEB24213 para setor de bebidas alcoolicas\n",
      "enviar BEB56262 para setor de bebidas alcoolicas\n",
      "mandar BSA96915 para setor de bebida normal\n",
      "mandar CAR53454 para setor de bebida normal\n",
      "enviar BEB75073 para setor de bebidas alcoolicas\n"
     ]
    }
   ],
   "source": [
    "for loop in produtos:\n",
    "    if produto(loop):\n",
    "        print('enviar {} para setor de bebidas alcoolicas'.format(loop))\n",
    "    else:\n",
    "        print('mandar {} para setor de bebida normal'.format(loop))"
   ]
  }
 ],
 "metadata": {
  "kernelspec": {
   "display_name": "Python 3 (ipykernel)",
   "language": "python",
   "name": "python3"
  },
  "language_info": {
   "codemirror_mode": {
    "name": "ipython",
    "version": 3
   },
   "file_extension": ".py",
   "mimetype": "text/x-python",
   "name": "python",
   "nbconvert_exporter": "python",
   "pygments_lexer": "ipython3",
   "version": "3.9.12"
  }
 },
 "nbformat": 4,
 "nbformat_minor": 5
}
